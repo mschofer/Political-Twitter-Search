{
 "cells": [
  {
   "cell_type": "code",
   "execution_count": 1,
   "id": "676a39e8",
   "metadata": {},
   "outputs": [],
   "source": [
    "def getUserTweetStuff(userName, tweetFile, tweetStuff):\n",
    "    \n",
    "    # import module\n",
    "    import csv\n",
    "    \n",
    "    # open and read the tweetFile\n",
    "    tweet_box = open(tweetFile, 'r')\n",
    "    tweet_file = csv.reader(tweet_box)\n",
    "    \n",
    "    # skip header\n",
    "    next(tweet_file)\n",
    "    \n",
    "    # define empty list for tweetStuff that'll be found\n",
    "    tweetz = []\n",
    "    \n",
    "    # Use a for loop to iterate through each row looking for tweets from userName\n",
    "    # Any tweets found should then be appended to a list.\n",
    "    for row in tweet_file:\n",
    "        if(row[0] == userName):\n",
    "            tweetz.append(row[1])\n",
    "    \n",
    "    # join the list into a single string\n",
    "    tweet = \" \".join(tweetz)\n",
    "    # clean the string\n",
    "    twizzle = tweet.lower().replace(\"?\",\"\").replace(\"!\",\"\").replace(\".\",\"\").replace(\",\",\"\").replace(\"'\",\"\").replace(\"@1\",\"\").replace(\";\",\"\").replace(\"/\",\"\")\n",
    "    # split the string by word\n",
    "    tweets = twizzle.split()\n",
    "\n",
    "    # Once all the quotes are compiled, pull the tweetSuff \n",
    "    # define count variables\n",
    "    mentions = []\n",
    "    hashtags = []\n",
    "    other = []\n",
    "\n",
    "    # for loop to go through each object in the list\n",
    "    for object in tweets:         \n",
    "        # when the stuff being looked for is mentions, find all objects with \"@\"\n",
    "        if(tweetStuff == \"mentions\"):\n",
    "            if(\"@\" in object):\n",
    "                # add to the mentions list and remove it from the main list \n",
    "                mentions.append(object)\n",
    "        elif(tweetStuff == \"hashtags\"):\n",
    "            if(\"#\" in object):\n",
    "                hashtags.append(object)\n",
    "        else:\n",
    "            # if a specfic word is looked for, then create list of word andcount then print statement\n",
    "            if(tweetStuff == \"otherWords\"):\n",
    "                other.append(object)\n",
    "    \n",
    "    # if no tweets are found in th file, then return message about not finding\n",
    "    if(len(tweets) == 0):\n",
    "        return(\"No tweets from \" + userName + \" found in \" + tweetFile)\n",
    "\n",
    "    # Return the list of tweetStuff\n",
    "    if(tweetStuff == \"mentions\"):\n",
    "        return(mentions)\n",
    "    elif(tweetStuff == \"hashtags\"):\n",
    "        return(hashtags)\n",
    "    else:\n",
    "        return(other)\n",
    "    \n",
    "    "
   ]
  },
  {
   "cell_type": "code",
   "execution_count": 7,
   "id": "85245d64",
   "metadata": {},
   "outputs": [
    {
     "name": "stdout",
     "output_type": "stream",
     "text": [
      "18465\n"
     ]
    }
   ],
   "source": [
    "x = getUserTweetStuff(\"ChrisMurphyCT\", \"DemocratTweetsFall2020.csv\", \"otherWords\")\n",
    "print(len(x))"
   ]
  },
  {
   "cell_type": "code",
   "execution_count": 3,
   "id": "dd310249",
   "metadata": {},
   "outputs": [],
   "source": [
    "\n",
    "def findSubstringInTweets(userName, tweetFile, substring):\n",
    "    # import module\n",
    "    import csv\n",
    "    \n",
    "    # open and read the tweetFile\n",
    "    tweet_box = open(tweetFile, 'r')\n",
    "    tweet_file = csv.reader(tweet_box)\n",
    "    \n",
    "    # skip header\n",
    "    next(tweet_file)\n",
    "    \n",
    "    # define empty list for tweetStuff that'll be found\n",
    "    tweetz = []\n",
    "    \n",
    "    # lowercase the search string\n",
    "    substring = substring.lower()\n",
    "    \n",
    "    # Use a for loop to iterate through each row looking for tweets from userName\n",
    "    # Any tweets found should then be appended to a list.\n",
    "    for row in tweet_file:\n",
    "        if(row[0] == userName):\n",
    "            tweetz.append(row[1])\n",
    "    # join the list into a single string\n",
    "    tweet = \" \".join(tweetz)\n",
    "    # clean up the whole string\n",
    "    twizzle = tweet.lower().replace(\"?\",\"\").replace(\"!\",\"\").replace(\".\",\"\").replace(\",\",\"\").replace(\"'\",\"\").replace(\":\",\"\").replace(\";\",\"\").replace(\"/\",\"\")\n",
    "    # break up the string into a list so each word is a object in the list\n",
    "    tweets = twizzle.split()\n",
    "    \n",
    "    # define variable\n",
    "    stringz = []\n",
    "    # check if each word matches substring\n",
    "    for object in tweets:\n",
    "        if(substring in object):\n",
    "            # append onject to new list of words matching substring\n",
    "            stringz.append(object)\n",
    "    # print statement including length of list of substring\n",
    "    return(substring + \" was found \" + str(len(stringz)) + \" times in tweets written by \" + userName)\n",
    "    "
   ]
  },
  {
   "cell_type": "code",
   "execution_count": 4,
   "id": "72638c76",
   "metadata": {},
   "outputs": [
    {
     "data": {
      "text/plain": [
       "'covid was found 125 times in tweets written by lisamurkowski'"
      ]
     },
     "execution_count": 4,
     "metadata": {},
     "output_type": "execute_result"
    }
   ],
   "source": [
    "findSubstringInTweets(\"lisamurkowski\", \"RepublicanTweetsFall2020.csv\", \"COVID\")"
   ]
  }
 ],
 "metadata": {
  "kernelspec": {
   "display_name": "Python 3 (ipykernel)",
   "language": "python",
   "name": "python3"
  },
  "language_info": {
   "codemirror_mode": {
    "name": "ipython",
    "version": 3
   },
   "file_extension": ".py",
   "mimetype": "text/x-python",
   "name": "python",
   "nbconvert_exporter": "python",
   "pygments_lexer": "ipython3",
   "version": "3.9.12"
  }
 },
 "nbformat": 4,
 "nbformat_minor": 5
}
